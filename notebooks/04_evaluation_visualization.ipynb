{
 "cells": [
  {
   "cell_type": "markdown",
   "id": "24bd23f8",
   "metadata": {},
   "source": [
    "# 📈 Model Evaluation & Feature Analysis"
   ]
  },
  {
   "cell_type": "code",
   "execution_count": null,
   "id": "2038be11",
   "metadata": {},
   "outputs": [],
   "source": [
    "import pandas as pd\n",
    "import numpy as np\n",
    "import joblib\n",
    "import matplotlib.pyplot as plt\n",
    "import seaborn as sns\n",
    "from sklearn.metrics import classification_report, confusion_matrix"
   ]
  },
  {
   "cell_type": "code",
   "execution_count": null,
   "id": "5a77256f",
   "metadata": {},
   "outputs": [],
   "source": [
    "df = pd.read_csv('../models/processed_reviews.csv')\n",
    "X = df['processed']\n",
    "y = df['sentiment']\n",
    "\n",
    "from sklearn.feature_extraction.text import TfidfVectorizer\n",
    "from sklearn.model_selection import train_test_split\n",
    "tfidf = joblib.load('../models/tfidf_vectorizer.pkl')\n",
    "model = joblib.load('../models/best_model.pkl')\n",
    "\n",
    "X_train, X_test, y_train, y_test = train_test_split(X, y, stratify=y, test_size=0.2, random_state=42)\n",
    "X_test_vec = tfidf.transform(X_test)"
   ]
  },
  {
   "cell_type": "code",
   "execution_count": null,
   "id": "b4ad7360",
   "metadata": {},
   "outputs": [],
   "source": [
    "y_pred = model.predict(X_test_vec)\n",
    "print(\"Classification Report:\")\n",
    "print(classification_report(y_test, y_pred))\n",
    "\n",
    "cm = confusion_matrix(y_test, y_pred)\n",
    "sns.heatmap(cm, annot=True, fmt='d', cmap='Blues', xticklabels=model.classes_, yticklabels=model.classes_)\n",
    "plt.title(\"Confusion Matrix\")\n",
    "plt.xlabel(\"Predicted\")\n",
    "plt.ylabel(\"Actual\")\n",
    "plt.show()"
   ]
  },
  {
   "cell_type": "code",
   "execution_count": null,
   "id": "642a52fd",
   "metadata": {},
   "outputs": [],
   "source": [
    "if hasattr(model, 'coef_'):\n",
    "    feature_names = tfidf.get_feature_names_out()\n",
    "    coefs = model.coef_[0]\n",
    "    top_pos = np.argsort(coefs)[-10:]\n",
    "    top_neg = np.argsort(coefs)[:10]\n",
    "    print(\"Top Positive Features:\")\n",
    "    for i in reversed(top_pos):\n",
    "        print(f\"{feature_names[i]}: {coefs[i]:.4f}\")\n",
    "    print(\"\\nTop Negative Features:\")\n",
    "    for i in top_neg:\n",
    "        print(f\"{feature_names[i]}: {coefs[i]:.4f}\")"
   ]
  }
 ],
 "metadata": {
  "language_info": {
   "name": "python"
  }
 },
 "nbformat": 4,
 "nbformat_minor": 5
}
