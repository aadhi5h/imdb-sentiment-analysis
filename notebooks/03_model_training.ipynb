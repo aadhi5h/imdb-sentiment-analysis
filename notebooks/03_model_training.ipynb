{
 "cells": [
  {
   "cell_type": "markdown",
   "id": "c4e8ceb7",
   "metadata": {},
   "source": [
    "# 🤖 Model Training"
   ]
  },
  {
   "cell_type": "code",
   "execution_count": null,
   "id": "d938fa81",
   "metadata": {},
   "outputs": [],
   "source": [
    "import pandas as pd\n",
    "import numpy as np\n",
    "from sklearn.feature_extraction.text import TfidfVectorizer\n",
    "from sklearn.model_selection import train_test_split, cross_val_score\n",
    "from sklearn.linear_model import LogisticRegression\n",
    "from sklearn.naive_bayes import MultinomialNB\n",
    "from sklearn.svm import LinearSVC\n",
    "from sklearn.metrics import accuracy_score\n",
    "import seaborn as sns\n",
    "import matplotlib.pyplot as plt\n",
    "import joblib\n",
    "import json\n",
    "import os\n",
    "from tqdm import tqdm\n",
    "import warnings\n",
    "warnings.filterwarnings('ignore')\n",
    "\n",
    "print(\"✅ Libraries loaded!\")"
   ]
  },
  {
   "cell_type": "code",
   "execution_count": null,
   "id": "f759474a",
   "metadata": {},
   "outputs": [],
   "source": [
    "df = pd.read_csv('../data/processed/processed_reviews.csv')\n",
    "print(\"✅ Data loaded! Preview:\")\n",
    "df.head()"
   ]
  },
  {
   "cell_type": "code",
   "execution_count": null,
   "id": "16cb8329",
   "metadata": {},
   "outputs": [],
   "source": [
    "X = df['processed']\n",
    "y = df['sentiment']\n",
    "\n",
    "print(\"🔀 Splitting data...\")\n",
    "X_train, X_test, y_train, y_test = train_test_split(X, y, stratify=y, test_size=0.2, random_state=42)\n",
    "\n",
    "print(\"🔤 TF-IDF vectorizing...\")\n",
    "tfidf = TfidfVectorizer(max_features=10000, ngram_range=(1,2), min_df=2, max_df=0.95)\n",
    "X_train_vec = tfidf.fit_transform(X_train)\n",
    "X_test_vec = tfidf.transform(X_test)\n",
    "\n",
    "print(\"✅ Vectorization complete. Feature count:\", X_train_vec.shape[1])"
   ]
  },
  {
   "cell_type": "code",
   "execution_count": null,
   "id": "58e65a54",
   "metadata": {},
   "outputs": [],
   "source": [
    "models = {\n",
    "    'Logistic Regression': LogisticRegression(max_iter=1000, random_state=42),\n",
    "    'Naive Bayes': MultinomialNB(),\n",
    "    'Linear SVM': LinearSVC(random_state=42, max_iter=10000)\n",
    "}\n",
    "\n",
    "results = {}\n",
    "trained_models = {}\n",
    "\n",
    "print(\"🔧 Training models...\\n\")\n",
    "for name in tqdm(models):\n",
    "    model = models[name]\n",
    "    print(f\"▶️ {name}\")\n",
    "    %time model.fit(X_train_vec, y_train)\n",
    "\n",
    "    preds = model.predict(X_test_vec)\n",
    "    acc = accuracy_score(y_test, preds)\n",
    "    print(f\"✅ Test Accuracy: {acc:.4f}\")\n",
    "\n",
    "    print(\"🔁 Cross-validating...\")\n",
    "    %time cv = cross_val_score(model, X_train_vec, y_train, cv=5).mean()\n",
    "    print(f\"📈 CV Accuracy: {cv:.4f}\")\n",
    "\n",
    "    results[name] = {'Test Accuracy': acc, 'CV Accuracy': cv}\n",
    "    trained_models[name] = model\n"
   ]
  },
  {
   "cell_type": "code",
   "execution_count": null,
   "id": "e45992f0",
   "metadata": {},
   "outputs": [],
   "source": [
    "\n",
    "results_df = pd.DataFrame(results).T\n",
    "print(\"\\n📊 Comparison of Models:\")\n",
    "print(results_df)\n",
    "best_model_name = results_df['Test Accuracy'].idxmax()\n",
    "best_model = trained_models[best_model_name]\n",
    "print(f\"\\n🏆 Best Model: {best_model_name} | 🎯 Accuracy: {results_df.loc[best_model_name, 'Test Accuracy']:.4f}\")\n"
   ]
  },
  {
   "cell_type": "code",
   "execution_count": null,
   "id": "986a2e85",
   "metadata": {},
   "outputs": [],
   "source": [
    "# 💾 Save the best model\n",
    "os.makedirs('models', exist_ok=True)\n",
    "\n",
    "model_filename = \"../models/best_model.pkl\"\n",
    "vectorizer_filename = \"../models/tfidf_vectorizer.pkl\"\n",
    "\n",
    "joblib.dump(best_model, model_filename)\n",
    "joblib.dump(tfidf, vectorizer_filename)\n",
    "\n",
    "print(f\"✅ Model saved to: {model_filename}\")\n",
    "print(f\"✅ Vectorizer saved to: {vectorizer_filename}\")"
   ]
  },
  {
   "cell_type": "code",
   "execution_count": null,
   "id": "7df48d5b",
   "metadata": {},
   "outputs": [],
   "source": [
    "model_info = {\n",
    "    \"model\": best_model_name,\n",
    "    \"test_accuracy\": results_df.loc[best_model_name, \"Test Accuracy\"],\n",
    "    \"cv_accuracy\": results_df.loc[best_model_name, \"CV Accuracy\"],\n",
    "    \"feature_count\": X_train_vec.shape[1]\n",
    "}\n",
    "with open(\"../models/model_info.json\", \"w\") as f:\n",
    "    json.dump(model_info, f, indent=2)\n",
    "\n",
    "print(\"📦 Model info saved to: ../models/model_info.json\")\n"
   ]
  }
 ],
 "metadata": {
  "language_info": {
   "name": "python"
  }
 },
 "nbformat": 4,
 "nbformat_minor": 5
}
