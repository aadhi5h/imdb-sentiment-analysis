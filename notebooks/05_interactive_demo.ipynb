{
 "cells": [
  {
   "cell_type": "markdown",
   "id": "c0e0f9e5",
   "metadata": {},
   "source": [
    "# 🎛️ Interactive Sentiment Demo with Widgets"
   ]
  },
  {
   "cell_type": "code",
   "execution_count": null,
   "id": "ae5702ab",
   "metadata": {},
   "outputs": [],
   "source": [
    "import joblib\n",
    "import nltk\n",
    "import re\n",
    "from nltk.tokenize import word_tokenize\n",
    "from nltk.corpus import stopwords\n",
    "from nltk.stem import WordNetLemmatizer\n",
    "import ipywidgets as widgets\n",
    "from IPython.display import display, clear_output\n",
    "import matplotlib.pyplot as plt\n",
    "\n",
    "nltk.download('punkt_tab')\n",
    "nltk.download('stopwords')\n",
    "nltk.download('wordnet')\n",
    "\n",
    "model = joblib.load('../models/best_model.pkl')\n",
    "tfidf = joblib.load('../models/tfidf_vectorizer.pkl')"
   ]
  },
  {
   "cell_type": "code",
   "execution_count": null,
   "id": "cf7b53d3",
   "metadata": {},
   "outputs": [],
   "source": [
    "def preprocess(text):\n",
    "    text = text.lower()\n",
    "    text = re.sub(r'<[^>]+>', '', text)\n",
    "    text = re.sub(r'http\\S+|www\\S+', '', text)\n",
    "    text = re.sub(r'[^a-zA-Z\\s]', '', text)\n",
    "    text = re.sub(r'\\s+', ' ', text).strip()\n",
    "    tokens = word_tokenize(text)\n",
    "    stop_words = set(stopwords.words('english'))\n",
    "    tokens = [t for t in tokens if t not in stop_words and len(t) > 2]\n",
    "    lemmatizer = WordNetLemmatizer()\n",
    "    tokens = [lemmatizer.lemmatize(t) for t in tokens]\n",
    "    return ' '.join(tokens)"
   ]
  },
  {
   "cell_type": "code",
   "execution_count": null,
   "id": "d2ec6863",
   "metadata": {},
   "outputs": [],
   "source": [
    "def predict_sentiment(text):\n",
    "    if not text.strip():\n",
    "        return \"Please enter valid text\", 0.0, 0.0, 0.0\n",
    "    processed = preprocess(text)\n",
    "    vec = tfidf.transform([processed])\n",
    "    pred = model.predict(vec)[0]\n",
    "    proba = model.predict_proba(vec)[0]\n",
    "    return pred, max(proba), proba[0], proba[1]"
   ]
  },
  {
   "cell_type": "code",
   "execution_count": null,
   "id": "e252a1c4",
   "metadata": {},
   "outputs": [],
   "source": [
    "text_input = widgets.Textarea(\n",
    "    value='Enter your review here...',\n",
    "    layout=widgets.Layout(width='100%', height='100px')\n",
    ")\n",
    "predict_btn = widgets.Button(description='Analyze Sentiment', button_style='primary')\n",
    "output = widgets.Output()\n",
    "\n",
    "def on_click(b):\n",
    "    with output:\n",
    "        clear_output()\n",
    "        text = text_input.value\n",
    "        pred, conf, neg, pos = predict_sentiment(text)\n",
    "        print(f\"Prediction: {pred.upper()} ({conf:.2%})\")\n",
    "        print(f\"😊 Positive: {pos:.2%} | 😞 Negative: {neg:.2%}\")\n",
    "        labels = ['Negative', 'Positive']\n",
    "        plt.bar(labels, [neg, pos], color=['red', 'green'])\n",
    "        plt.ylim(0, 1)\n",
    "        plt.title('Sentiment Probabilities')\n",
    "        plt.show()\n",
    "\n",
    "predict_btn.on_click(on_click)\n",
    "display(widgets.VBox([text_input, predict_btn, output]))"
   ]
  }
 ],
 "metadata": {
  "language_info": {
   "name": "python"
  }
 },
 "nbformat": 4,
 "nbformat_minor": 5
}
